{
 "cells": [
  {
   "cell_type": "markdown",
   "metadata": {},
   "source": [
    "# Dataset"
   ]
  },
  {
   "cell_type": "markdown",
   "metadata": {},
   "source": [
    "## Import Library"
   ]
  },
  {
   "cell_type": "code",
   "execution_count": 7,
   "metadata": {},
   "outputs": [
    {
     "name": "stdout",
     "output_type": "stream",
     "text": [
      "The autoreload extension is already loaded. To reload it, use:\n",
      "  %reload_ext autoreload\n"
     ]
    }
   ],
   "source": [
    "%load_ext autoreload\n",
    "%autoreload 2\n",
    "%matplotlib inline\n",
    "\n",
    "# visualization\n",
    "import matplotlib.pyplot as plt\n",
    "import seaborn as sns\n",
    "import os\n",
    "import glob\n",
    "\n",
    "# pytorch\n",
    "import torch\n",
    "from torch import optim\n",
    "from torch.autograd import Variable,gradcheck\n",
    "from torch.utils.data import DataLoader\n",
    "\n",
    "# sklearn\n",
    "from sklearn.model_selection import train_test_split\n",
    "from sklearn.preprocessing import MinMaxScaler\n",
    "from sklearn.preprocessing import StandardScaler\n",
    "\n",
    "# others\n",
    "import numpy as np\n",
    "import pandas as pd\n",
    "import pdb\n",
    "import sys\n",
    "sys.path.append(\"../model_source/\")\n",
    "from all_models import MTNN,MTNN2,seed_everything\n",
    "import evaluation_and_visualization as ev_viz"
   ]
  },
  {
   "cell_type": "markdown",
   "metadata": {},
   "source": [
    "## Load  Data"
   ]
  },
  {
   "cell_type": "code",
   "execution_count": 15,
   "metadata": {},
   "outputs": [
    {
     "name": "stdout",
     "output_type": "stream",
     "text": [
      "Loaded Files\n"
     ]
    }
   ],
   "source": [
    "TRAINPERCENTAGE=0.55\n",
    "DATASETNAME=\"../../../../datasets/evaluation_data/AllData_with_Pressure_And_Velocity_Samples_case1/AllData_PRESSURE_and_VELOCITY_10_SAMPLES_All_RE_SF_Groups_TRAINPERCENTAGE_{}_With_Output_Mask_\".format(TRAINPERCENTAGE)\n",
    "\n",
    "exists = os.path.isfile(DATASETNAME+\"trainX.npy\")\n",
    "if exists:\n",
    "    X_train=np.load(DATASETNAME+\"trainX.npy\")\n",
    "    y_train=np.load(DATASETNAME+\"trainY.npy\")\n",
    "    X_val=np.load(DATASETNAME+\"valX.npy\")\n",
    "    y_val=np.load(DATASETNAME+\"valY.npy\")\n",
    "    X_test=np.load(DATASETNAME+\"testX.npy\")\n",
    "    y_test=np.load(DATASETNAME+\"testY.npy\")\n",
    "    print(\"Loaded Files\")\n",
    "else:\n",
    "    pass "
   ]
  },
  {
   "cell_type": "code",
   "execution_count": 16,
   "metadata": {},
   "outputs": [
    {
     "name": "stdout",
     "output_type": "stream",
     "text": [
      "Shape of Training and Testing Files\n",
      "(2639, 47) (2639, 29) (564, 47) (564, 29) (2621, 47) (2621, 29)\n"
     ]
    }
   ],
   "source": [
    "#y matrix structure (Fx-nondim, PressureField1,...,PressureField10,VelocityXField1,...,VelocityXField10,Px,Py,Pz,TauX,TauY,Tauz,AvgFx-NonDim-Per_Re_SF,Mask)\n",
    "#Currently Mask is all ones.\n",
    "print(\"Shape of Training and Testing Files\")\n",
    "print(X_train.shape,y_train.shape,X_val.shape,y_val.shape,X_test.shape,y_test.shape)"
   ]
  },
  {
   "cell_type": "markdown",
   "metadata": {},
   "source": [
    "## Normalization"
   ]
  },
  {
   "cell_type": "code",
   "execution_count": 17,
   "metadata": {},
   "outputs": [
    {
     "name": "stdout",
     "output_type": "stream",
     "text": [
      "Shapes y_train = (2639, 29), y_val = (564, 29), y_test = (2621, 29)\n"
     ]
    }
   ],
   "source": [
    "#Mask specifically for pressure and velocity fields.\n",
    "mask_train=np.int32(y_train[:,-1])\n",
    "mask_val=np.int32(y_val[:,-1])\n",
    "mask_test=np.int32(y_test[:,-1])\n",
    "\n",
    "# normalize on training set and apply to test set\n",
    "std_scaler_x = StandardScaler()\n",
    "std_scaler_y = StandardScaler()\n",
    "std_scaler_pres=StandardScaler()\n",
    "std_scaler_velX=StandardScaler()   #Not used in this model but can be dropped in place of pressure without change.\n",
    "\n",
    "# fit and transform on training set\n",
    "X_train = std_scaler_x.fit_transform(X_train)\n",
    "y_train[:, 0] = std_scaler_y.fit_transform(\n",
    "    np.reshape(y_train[:, 0], (y_train.shape[0], 1))\n",
    ")[:, 0]\n",
    "  \n",
    "#apply transformation on validation set.\n",
    "X_val = std_scaler_x.transform(X_val)\n",
    "y_val[:,0] = std_scaler_y.transform(\n",
    "     np.reshape(y_val[:,0], (y_val.shape[0],1))\n",
    "   )[:,0]\n",
    "\n",
    "# apply transformation on test set\n",
    "X_test = std_scaler_x.transform(X_test)\n",
    "y_test[:, 0] = std_scaler_y.transform(\n",
    "    np.reshape(y_test[:, 0], (y_test.shape[0], 1))\n",
    ")[:, 0]\n",
    "\n",
    "# # # #Standard Scaling of pressure y values. Only calculated for training.\n",
    "\n",
    "y_train[mask_train==1,1:11] = std_scaler_pres.fit_transform(y_train[mask_train==1,1:11])\n",
    "y_val[mask_val==1,1:11] = std_scaler_pres.transform(y_val[mask_val==1,1:11])\n",
    "y_test[mask_test==1,1:11] = std_scaler_pres.transform(y_test[mask_test==1,1:11])\n",
    "\n",
    "#### Standard Scaling of velocity y values. Only calculated for training.\n",
    "\n",
    "y_train[mask_train==1,11:21] = std_scaler_velX.fit_transform(y_train[mask_train==1,11:21])\n",
    "y_val[mask_val==1,11:21] = std_scaler_velX.transform(y_val[mask_val==1,11:21])\n",
    "y_test[mask_test==1,11:21] = std_scaler_velX.transform(y_test[mask_test==1,11:21])\n",
    "\n",
    "\n",
    "print(\"Shapes y_train = {}, y_val = {}, y_test = {}\".format(y_train.shape,y_val.shape,y_test.shape))"
   ]
  },
  {
   "cell_type": "markdown",
   "metadata": {},
   "source": [
    "# Fully Connected Network "
   ]
  },
  {
   "cell_type": "markdown",
   "metadata": {},
   "source": [
    "## Configurations"
   ]
  },
  {
   "cell_type": "code",
   "execution_count": 18,
   "metadata": {},
   "outputs": [],
   "source": [
    "# CUDA support \n",
    "if torch.cuda.is_available():\n",
    "    device = torch.device('cuda')\n",
    "else:\n",
    "    device = torch.device('cpu')\n",
    "\n",
    "# model settings\n",
    "D_in  = X_train.shape[1]\n",
    "output_size = 1    #1 FX-nondim value.\n",
    "output_size_aux = 10  #10 Pressure Sampled values\n",
    "H = 128\n",
    "depth = 5\n",
    "depth_aux = 5\n",
    "shared_depth = 1\n",
    "NUMEPOCHS = 500\n",
    "Batch_size = 100"
   ]
  },
  {
   "cell_type": "markdown",
   "metadata": {},
   "source": [
    "## Model"
   ]
  },
  {
   "cell_type": "markdown",
   "metadata": {},
   "source": [
    "## Training"
   ]
  },
  {
   "cell_type": "code",
   "execution_count": 12,
   "metadata": {
    "scrolled": true
   },
   "outputs": [
    {
     "name": "stdout",
     "output_type": "stream",
     "text": [
      "Epochs\n",
      "0, tensor(0.2257, device='cuda:0', grad_fn=<AddBackward0>)\n",
      "50, tensor(0.1082, device='cuda:0', grad_fn=<AddBackward0>)\n",
      "100, tensor(0.0350, device='cuda:0', grad_fn=<AddBackward0>)\n",
      "150, tensor(0.0233, device='cuda:0', grad_fn=<AddBackward0>)\n",
      "200, tensor(0.0149, device='cuda:0', grad_fn=<AddBackward0>)\n",
      "250, tensor(0.0220, device='cuda:0', grad_fn=<AddBackward0>)\n",
      "300, tensor(0.0071, device='cuda:0', grad_fn=<AddBackward0>)\n",
      "350, tensor(0.0089, device='cuda:0', grad_fn=<AddBackward0>)\n",
      "400, tensor(0.0042, device='cuda:0', grad_fn=<AddBackward0>)\n",
      "450, tensor(0.0047, device='cuda:0', grad_fn=<AddBackward0>)\n",
      "\n",
      "Training Complete\n",
      "Test MSE = 20.12626838684082\n",
      "Relative Error = 0.1566105768090249\n",
      "AUREC = 0.8559328500572301\n",
      "Overall Test MSE = 20.126270294189453, Test MRE = 0.15661\n"
     ]
    }
   ],
   "source": [
    "NUMEXPERIMENTS=1\n",
    "\n",
    "models=list()\n",
    "test_mses=list()\n",
    "test_mres=list()\n",
    "test_preds_all=list()\n",
    "test_targets_all=list()\n",
    "\n",
    "seed_everything(123)\n",
    "for expt_no in range(NUMEXPERIMENTS):\n",
    "    losses=list()\n",
    "    # Compile model   \n",
    "    model = MTNN(D_in, H, output_size,output_size_aux, depth,depth_aux,shared_depth,device=device).to(device)\n",
    "\n",
    "    # Loss Function\n",
    "    criterion = torch.nn.MSELoss() \n",
    "    \n",
    "    # Optimizer\n",
    "    optimizer = optim.Adadelta(model.parameters())\n",
    "    \n",
    "    # Input Data\n",
    "    trainX = Variable(torch.from_numpy(X_train).float()).to(device)\n",
    "    trainY = Variable(torch.from_numpy(y_train[:,0]).float()).to(device)\n",
    "    trainY_AUX = Variable(torch.from_numpy(y_train[:,1:11]).float()).to(device)\n",
    "    trainMask=torch.FloatTensor(torch.from_numpy(y_train[:,-1]).float()).to(device)\n",
    "\n",
    "    valX = Variable(torch.from_numpy(X_val).float()).to(device)\n",
    "    valY = Variable(torch.from_numpy(y_val[:,0]).float()).to(device)\n",
    "    valY_AUX = Variable(torch.from_numpy(y_val[:,1:11]).float()).to(device)\n",
    "    valMask=torch.FloatTensor(torch.from_numpy(y_val[:,-1]).float()).to(device)\n",
    "\n",
    "    testX = Variable(torch.from_numpy(X_test).float()).to(device)\n",
    "    testY = Variable(torch.from_numpy(y_test[:,0]).float()).to(device)\n",
    "    testY_AUX = Variable(torch.from_numpy(y_test[:,1:11]).float()).to(device)\n",
    "    testMask=torch.FloatTensor(torch.from_numpy(y_test[:,-1]).float()).to(device)\n",
    "\n",
    "    # Train the model\n",
    "    data_train_loader = DataLoader(\n",
    "        list(zip(trainX,trainY,trainY_AUX,trainMask)), \n",
    "        batch_size=Batch_size, \n",
    "        shuffle=True\n",
    "    )\n",
    "\n",
    "    print(\"Epochs\")\n",
    "    losses_main=list()\n",
    "    losses_aux=list()\n",
    "    for epoch in range(NUMEPOCHS):\n",
    "        alltargets = list()\n",
    "        allpredictions = list()\n",
    "        allpredictions_aux=list()\n",
    "        epoch_losses_all=list()\n",
    "        epoch_losses_main=list()\n",
    "        epoch_losses_aux=list()\n",
    "        for batchX, batchY,batchY_AUX,batchMask in data_train_loader: \n",
    "            # Forward pass\n",
    "            outputs,outputs_AUX = model(batchX)\n",
    "\n",
    "            outputs_AUX = outputs_AUX*batchMask.unsqueeze(1)\n",
    "\n",
    "            loss1 = criterion(outputs.squeeze(), batchY)\n",
    "            loss2 = criterion(outputs_AUX,batchY_AUX)\n",
    "            \n",
    "            loss = loss1 + 0.01*loss2\n",
    "            allpredictions_aux.append(outputs_AUX)\n",
    "            allpredictions.append(outputs)\n",
    "            alltargets.append(batchY)\n",
    "            \n",
    "            # Backward and optimize\n",
    "            optimizer.zero_grad()\n",
    "            loss.backward()     \n",
    "            optimizer.step()\n",
    "            losses.append(loss)\n",
    "            epoch_losses_all.append(loss.item())\n",
    "            epoch_losses_main.append(loss1.item())\n",
    "            epoch_losses_aux.append(loss2.item())\n",
    "            \n",
    "        losses_main.append(np.mean(epoch_losses_main))\n",
    "        losses_aux.append(np.mean(epoch_losses_aux))\n",
    "        \n",
    "        # Print Epochs and Losses to Monitor Convergence\n",
    "        if epoch % 50 == 0:\n",
    "            print(\"{}\".format(epoch),end = \", \")\n",
    "            print(loss)\n",
    "\n",
    "    print('\\nTraining Complete')\n",
    "\n",
    "    with torch.no_grad():\n",
    "        testpreds,testpreds_aux = model(testX)\n",
    "\n",
    "        preds = torch.from_numpy(\n",
    "            std_scaler_y.inverse_transform(testpreds.cpu().detach())\n",
    "        ).float()\n",
    "\n",
    "        tgts = torch.from_numpy(\n",
    "            std_scaler_y.inverse_transform(testY.cpu().data.numpy())\n",
    "        ).float()\n",
    "        \n",
    "        error = np.mean(np.square(preds.squeeze().data.numpy() - tgts.squeeze().data.numpy()))\n",
    "        print(\"Test MSE = {}\".format(error))\n",
    "        \n",
    "        #Relative Error\n",
    "        rel_err=np.mean(np.abs(preds.squeeze().data.cpu().numpy() - tgts.squeeze().data.cpu().numpy())/y_test[:,-2])\n",
    "        print(\"Relative Error = {}\".format(rel_err))\n",
    "\n",
    "        aurec = ev_viz.aurec(preds.squeeze().data.cpu().numpy().ravel(),tgts.squeeze().data.cpu().numpy().ravel(),y_test[:,-2])\n",
    "        print(\"AUREC = {}\".format(aurec))\n",
    "        \n",
    "    models.append(model)\n",
    "    test_mses.append(error)\n",
    "    test_mres.append(rel_err)\n",
    "    test_preds_all.append(preds)\n",
    "    test_targets_all.append(tgts)\n",
    "    #END For.\n",
    "    \n",
    "#Save Models, Predictions (of the model which is the best in terms of MRE.)\n",
    "#Store predictions, targets and average value as numpy array.\n",
    "\n",
    "print(\"Overall Test MSE = {}, Test MRE = {}\".format(round(np.mean(test_mses),5),round(np.mean(test_mres),5)))   "
   ]
  },
  {
   "cell_type": "code",
   "execution_count": 14,
   "metadata": {},
   "outputs": [],
   "source": [
    "MODEL='DNN-MT-PRES'\n",
    "_tmp=std_scaler_x.inverse_transform(X_test)\n",
    "_tmp2=np.vstack([preds.to(\"cpu\").data.numpy().ravel(),tgts.to(\"cpu\").data.numpy().ravel(),y_test[:,-2],_tmp[:,-2],_tmp[:,-1]]).T\n",
    "_df=pd.DataFrame(_tmp2,columns=['{}-Predictions'.format(MODEL),'Targets','Mean','Re','Solidfraction'])\n",
    "outputfile=\"/home/nik90/experiments/particleDragForce/dnn_mt_pres/{}_case1_predictions_TRAINPERCENTAGE_{}.csv\".format(MODEL,TRAINPERCENTAGE)\n",
    "_df.to_csv(outputfile,index=False)\n",
    "\n",
    "#Save Model\n",
    "torch.save(model.state_dict(),\"../../../../models/Nikhil_{}_Case1_TrainPercentage_{}\".format(MODEL,TRAINPERCENTAGE))"
   ]
  }
 ],
 "metadata": {
  "kernelspec": {
   "display_name": "Python 3",
   "language": "python",
   "name": "python3"
  },
  "language_info": {
   "codemirror_mode": {
    "name": "ipython",
    "version": 3
   },
   "file_extension": ".py",
   "mimetype": "text/x-python",
   "name": "python",
   "nbconvert_exporter": "python",
   "pygments_lexer": "ipython3",
   "version": "3.7.3"
  },
  "latex_envs": {
   "bibliofile": "biblio.bib",
   "cite_by": "apalike",
   "current_citInitial": 1,
   "eqLabelWithNumbers": true,
   "eqNumInitial": 0
  }
 },
 "nbformat": 4,
 "nbformat_minor": 1
}

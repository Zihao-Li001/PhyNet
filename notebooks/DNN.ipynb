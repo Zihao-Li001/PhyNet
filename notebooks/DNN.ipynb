{
 "cells": [
  {
   "cell_type": "markdown",
   "metadata": {},
   "source": [
    "# Dataset"
   ]
  },
  {
   "cell_type": "markdown",
   "metadata": {},
   "source": [
    "## Import Library"
   ]
  },
  {
   "cell_type": "code",
   "execution_count": 1,
   "metadata": {},
   "outputs": [],
   "source": [
    "%matplotlib inline\n",
    "%load_ext autoreload\n",
    "%autoreload 2\n",
    "# visualization\n",
    "import matplotlib.pyplot as plt\n",
    "import seaborn as sns\n",
    "import os\n",
    "import glob\n",
    "import pdb\n",
    "import warnings\n",
    "warnings.filterwarnings('ignore')\n",
    "\n",
    "\n",
    "# pytorch\n",
    "import torch\n",
    "from torch import optim\n",
    "from torch.autograd import Variable,gradcheck\n",
    "from torch.utils.data import DataLoader,Dataset\n",
    "\n",
    "# sklearn\n",
    "from sklearn.model_selection import train_test_split\n",
    "from sklearn.preprocessing import MinMaxScaler\n",
    "from sklearn.preprocessing import StandardScaler\n",
    "\n",
    "# others\n",
    "import numpy as np\n",
    "import pandas as pd\n",
    "import sys\n",
    "sys.path.append(\"../../../../model_source/\")\n",
    "from all_models import DNN,seed_everything\n",
    "import evaluation_and_visualization as ev_viz\n",
    "from utils import calc_cumulative"
   ]
  },
  {
   "cell_type": "markdown",
   "metadata": {},
   "source": [
    "# Load Data"
   ]
  },
  {
   "cell_type": "code",
   "execution_count": 2,
   "metadata": {},
   "outputs": [
    {
     "name": "stdout",
     "output_type": "stream",
     "text": [
      "Loaded Files\n"
     ]
    }
   ],
   "source": [
    "TRAINPERCENTAGE=0.55\n",
    "DATASETNAME=\"../../../../datasets/evaluation_data/AllData_with_Pressure_And_Velocity_Samples_case1/AllData_PRESSURE_and_VELOCITY_10_SAMPLES_All_RE_SF_Groups_TRAINPERCENTAGE_{}_With_Output_Mask_\".format(TRAINPERCENTAGE)\n",
    "\n",
    "exists = os.path.isfile(DATASETNAME+\"trainX.npy\")\n",
    "if exists:\n",
    "    X_train=np.load(DATASETNAME+\"trainX.npy\")\n",
    "    y_train=np.load(DATASETNAME+\"trainY.npy\")\n",
    "    X_val=np.load(DATASETNAME+\"valX.npy\")\n",
    "    y_val=np.load(DATASETNAME+\"valY.npy\")\n",
    "    X_test=np.load(DATASETNAME+\"testX.npy\")\n",
    "    y_test=np.load(DATASETNAME+\"testY.npy\")\n",
    "    print(\"Loaded Files\")\n",
    "else:\n",
    "    pass"
   ]
  },
  {
   "cell_type": "code",
   "execution_count": 4,
   "metadata": {},
   "outputs": [
    {
     "name": "stdout",
     "output_type": "stream",
     "text": [
      "Shape of Training and Testing Files\n",
      "(2639, 47) (2639, 29) (564, 47) (564, 29) (2621, 47) (2621, 29)\n"
     ]
    }
   ],
   "source": [
    "# y matrix structure\n",
    "#(Fx-nondim, PressureField1,...,PressureField10,VelocityXField1,...,VelocityXField10,Px,Py,Pz,TauX,TauY,Tauz,AvgFx-NonDim-Per_Re_SF,Mask)\n",
    "#Currently Mask is all ones.\n",
    "print(\"Shape of Training and Testing Files\")\n",
    "print(X_train.shape,y_train.shape,X_val.shape,y_val.shape,X_test.shape,y_test.shape)"
   ]
  },
  {
   "cell_type": "markdown",
   "metadata": {},
   "source": [
    "## Normalization"
   ]
  },
  {
   "cell_type": "code",
   "execution_count": 5,
   "metadata": {},
   "outputs": [],
   "source": [
    "# normalize on training set and apply to test set\n",
    "std_scaler_x = StandardScaler()\n",
    "std_scaler_y = StandardScaler()\n",
    "\n",
    "# fit and transform on training set\n",
    "X_train = std_scaler_x.fit_transform(X_train)\n",
    "y_train[:, 0] = std_scaler_y.fit_transform(\n",
    "    np.reshape(y_train[:, 0], (y_train.shape[0], 1))\n",
    ")[:, 0]\n",
    "\n",
    "#apply transformation on validation set.\n",
    "X_val = std_scaler_x.transform(X_val)\n",
    "y_val[:,0] = std_scaler_y.transform(\n",
    "     np.reshape(y_val[:,0], (y_val.shape[0],1))\n",
    "   )[:,0]\n",
    "\n",
    "# apply transformation on test set\n",
    "X_test = std_scaler_x.transform(X_test)\n",
    "y_test[:, 0] = std_scaler_y.transform(\n",
    "    np.reshape(y_test[:, 0], (y_test.shape[0], 1))\n",
    ")[:, 0]"
   ]
  },
  {
   "cell_type": "markdown",
   "metadata": {},
   "source": [
    "# Fully Connected Network "
   ]
  },
  {
   "cell_type": "markdown",
   "metadata": {},
   "source": [
    "## Configurations"
   ]
  },
  {
   "cell_type": "code",
   "execution_count": 6,
   "metadata": {},
   "outputs": [],
   "source": [
    "# CUDA support \n",
    "if torch.cuda.is_available():\n",
    "    device = torch.device('cuda')\n",
    "else:\n",
    "    device = torch.device('cpu')\n",
    "\n",
    "# model settings\n",
    "D_in  = X_train.shape[1]\n",
    "D_out = 1   #1 FX-Nondim value.\n",
    "H = 128\n",
    "Depth = 5\n",
    "NUMEPOCHS = 500\n",
    "BATCHSIZE = 100"
   ]
  },
  {
   "cell_type": "markdown",
   "metadata": {},
   "source": [
    "## Prepare For Training"
   ]
  },
  {
   "cell_type": "markdown",
   "metadata": {},
   "source": [
    "## Training"
   ]
  },
  {
   "cell_type": "code",
   "execution_count": 7,
   "metadata": {},
   "outputs": [
    {
     "name": "stdout",
     "output_type": "stream",
     "text": [
      "Experiment 0\n",
      "Epochs\n",
      "0, tensor(0.6522, device='cuda:0', grad_fn=<MseLossBackward>)\n",
      "50, tensor(0.0904, device='cuda:0', grad_fn=<MseLossBackward>)\n",
      "100, tensor(0.0323, device='cuda:0', grad_fn=<MseLossBackward>)\n",
      "150, tensor(0.0132, device='cuda:0', grad_fn=<MseLossBackward>)\n",
      "200, tensor(0.0117, device='cuda:0', grad_fn=<MseLossBackward>)\n",
      "250, tensor(0.0039, device='cuda:0', grad_fn=<MseLossBackward>)\n",
      "300, tensor(0.0083, device='cuda:0', grad_fn=<MseLossBackward>)\n",
      "350, tensor(0.0098, device='cuda:0', grad_fn=<MseLossBackward>)\n",
      "400, tensor(0.0166, device='cuda:0', grad_fn=<MseLossBackward>)\n",
      "450, tensor(0.0018, device='cuda:0', grad_fn=<MseLossBackward>)\n",
      "\n",
      "Training Complete\n",
      "Testing...\n",
      "Preds Shape = torch.Size([2621]), Targets Shape = torch.Size([2621])\n",
      "Test MSE = 20.501890182495117\n",
      "Relative Error = 0.167158047294102\n",
      "AUREC = 0.8457363601678749\n",
      "===============================================================\n",
      "\n",
      "Overall Test MSE = 20.501890182495117, Test MRE = 0.16716\n"
     ]
    }
   ],
   "source": [
    "NUMEXPERIMENTS=1\n",
    "models=list()\n",
    "test_mses=list()\n",
    "test_mres=list()\n",
    "test_preds_all=list()\n",
    "test_targets_all=list()\n",
    "\n",
    "#Reproducibility\n",
    "seed_everything(seed=123)\n",
    "\n",
    "for expt_no in range(NUMEXPERIMENTS):\n",
    "    print(\"Experiment {}\".format(expt_no))\n",
    "    # Compile model\n",
    "    model = DNN(D_in, H, D_out, Depth,device=device).to(device)\n",
    "    # Loss Function\n",
    "    criterion = torch.nn.MSELoss()\n",
    "    # Optimizer\n",
    "    optimizer = optim.Adadelta(model.parameters())\n",
    "    \n",
    "    # Input Data\n",
    "    trainX = Variable(torch.from_numpy(X_train).float()).to(device)\n",
    "    trainY = Variable(torch.from_numpy(y_train[:,0]).float()).to(device)\n",
    "    valX = Variable(torch.from_numpy(X_val).float()).to(device)\n",
    "    valY = Variable(torch.from_numpy(y_val[:,0]).float()).to(device)\n",
    "    testX = Variable(torch.from_numpy(X_test).float()).to(device)\n",
    "    testY = Variable(torch.from_numpy(y_test[:,0]).float()).to(device)\n",
    "    losses = list()\n",
    "\n",
    "    data_train_loader = DataLoader(\n",
    "        list(zip(trainX,trainY)), \n",
    "        batch_size=BATCHSIZE, \n",
    "        shuffle=True\n",
    "    )\n",
    "\n",
    "    print(\"Epochs\")\n",
    "\n",
    "    for epoch in range(NUMEPOCHS):\n",
    "        alltargets = list()\n",
    "        allpredictions = list()\n",
    "        for batchX, batchY in data_train_loader: \n",
    "            # Forward pass\n",
    "            outputs = model(batchX)\n",
    "            loss = criterion(outputs.squeeze(), batchY.squeeze())\n",
    "            allpredictions.append(outputs)\n",
    "            alltargets.append(batchY)\n",
    "            # Backward and optimize\n",
    "            optimizer.zero_grad()\n",
    "            loss.backward()     \n",
    "            optimizer.step()\n",
    "            losses.append(loss)\n",
    "\n",
    "        # Print Epochs and Losses to Monitor Convergence\n",
    "        if epoch % 50 == 0:\n",
    "            print(\"{}\".format(epoch),end = \", \")\n",
    "            print(loss)\n",
    "\n",
    "    print('\\nTraining Complete')\n",
    "    print(\"Testing...\")\n",
    "    with torch.no_grad():\n",
    "        testpreds = model(testX)\n",
    "        preds = torch.from_numpy(\n",
    "            std_scaler_y.inverse_transform(testpreds[:,0].data.cpu())\n",
    "        ).float()\n",
    "        tgts = torch.from_numpy(\n",
    "            std_scaler_y.inverse_transform(testY.data.cpu())\n",
    "        ).float()\n",
    "\n",
    "        print(\"Preds Shape = {}, Targets Shape = {}\".format(preds.size(),tgts.size()))\n",
    "        error = np.mean(np.square(preds.squeeze().data.numpy() - tgts.squeeze().data.numpy()))\n",
    "        # print(\"Test MSE = {}\".format(torch.mean((testpreds[:,0]-testY[:,0])**2).cpu().data.numpy()))\n",
    "        print(\"Test MSE = {}\".format(error))\n",
    "        \n",
    "        #Relative Error\n",
    "        rel_err=np.mean(np.abs(preds.squeeze().data.cpu().numpy() - tgts.squeeze().data.cpu().numpy())/y_test[:,-2])\n",
    "        print(\"Relative Error = {}\".format(rel_err))\n",
    "        \n",
    "        aurec=ev_viz.aurec(preds.squeeze().data.cpu().numpy(),tgts.squeeze().data.cpu().numpy(),y_test[:,-2])\n",
    "        print(\"AUREC = {}\".format(aurec))\n",
    "        print(\"===============================================================\\n\")\n",
    "\n",
    "    \n",
    "    models.append(model)\n",
    "    test_mses.append(error)\n",
    "    test_mres.append(rel_err)\n",
    "    test_preds_all.append(preds)\n",
    "    test_targets_all.append(tgts)\n",
    "    \n",
    "    #END For.\n",
    "    \n",
    "#Save Models, Predictions (of the model which is the best in terms of MRE.)\n",
    "#Store predictions, targets and average value as numpy array.\n",
    "print(\"Overall Test MSE = {}, Test MRE = {}\".format(round(np.mean(test_mses),5),round(np.mean(test_mres),5)))   "
   ]
  },
  {
   "cell_type": "code",
   "execution_count": 8,
   "metadata": {},
   "outputs": [],
   "source": [
    "#This is the part that saves the model and also saves the predicted values.\n",
    "MODEL='DNN-ALL'\n",
    "_tmp=std_scaler_x.inverse_transform(X_test)\n",
    "_df=pd.DataFrame(np.vstack([preds.to(\"cpu\").data.numpy().ravel(),tgts.to(\"cpu\").data.numpy().ravel(),y_test[:,-2],_tmp[:,-2],_tmp[:,-1]]).T,columns=['{}-Predictions'.format(MODEL),'Targets','Mean','Re','Solidfraction'])\n",
    "outputfile=\"/home/nik90/experiments/particleDragForce/dnn_all/{}_case1_predictions_TRAINPERCENTAGE_{}.csv\".format(MODEL,TRAINPERCENTAGE)\n",
    "_df.to_csv(outputfile,index=False)\n",
    "\n",
    "#Save Model\n",
    "torch.save(model.state_dict(),\"../../../../models/Nikhil_{}_Case1_TrainPercentage_{}\".format(MODEL,TRAINPERCENTAGE))"
   ]
  },
  {
   "cell_type": "code",
   "execution_count": null,
   "metadata": {},
   "outputs": [],
   "source": []
  }
 ],
 "metadata": {
  "kernelspec": {
   "display_name": "Python 3",
   "language": "python",
   "name": "python3"
  },
  "language_info": {
   "codemirror_mode": {
    "name": "ipython",
    "version": 3
   },
   "file_extension": ".py",
   "mimetype": "text/x-python",
   "name": "python",
   "nbconvert_exporter": "python",
   "pygments_lexer": "ipython3",
   "version": "3.7.3"
  },
  "latex_envs": {
   "bibliofile": "biblio.bib",
   "cite_by": "apalike",
   "current_citInitial": 1,
   "eqLabelWithNumbers": true,
   "eqNumInitial": 0
  }
 },
 "nbformat": 4,
 "nbformat_minor": 2
}
